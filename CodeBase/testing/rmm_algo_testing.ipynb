{
 "cells": [
  {
   "cell_type": "code",
   "execution_count": 17,
   "metadata": {},
   "outputs": [
    {
     "name": "stdout",
     "output_type": "stream",
     "text": [
      "i: 2 j: 1 -> 0, 1\n",
      "i: 3 j: 1 -> 0, 1\n",
      "i: 3 j: 2 -> 1, 1\n",
      "i: 4 j: 1 -> 0, 2\n",
      "i: 4 j: 2 -> 1, 2\n"
     ]
    }
   ],
   "source": [
    "\"\"\"\n",
    "RMM matrix, creating features rowwise.\n",
    "\n",
    "The following if statements are used:\n",
    "\n",
    "if i,j == 0 do e_T^{miss}\n",
    "\n",
    "elif i == j != 0 and (local_j < 2 or local_l < 2) do e_T(local_j) for jet or e_T(local_l) for lep\n",
    "\n",
    "elif j == 0 and i != 0 do h_L(local_j) for jet or h_L(local_l) for lep  \n",
    "\n",
    "elif i == 0 and j != 0 do m_T(local_j) for jet or m_T(local_l) for lep \n",
    "\n",
    "elif i != 0 and j != 0 and j != i and j > i and local_j <= N_j do m(local_j, local_j + 1) \n",
    "\n",
    "elif i != 0 and j != 0 and j != i and j > i and local_l <= N_l and local_j <= N_j do m(local_j, local_l + 1) \n",
    "\n",
    "\n",
    "\"\"\"\n",
    "\n",
    "\n",
    "N_j = 2\n",
    "N_l = 3\n",
    "\n",
    "Tot_columns = N_l + N_j + 1\n",
    "Tot_rows = Tot_columns\n",
    "\n",
    "p_f_j = 0\n",
    "p_f_l = 0\n",
    "\n",
    "p_s_j = 1\n",
    "p_s_l = 0\n",
    "\n",
    "\n",
    "for i in range(Tot_rows):\n",
    "    for j in range(Tot_columns):\n",
    "        \n",
    "        if j < i and j != 0:\n",
    "            #print(p_f_j,p_s_j )\n",
    "            \n",
    "            if p_f_j < N_j and p_s_j < N_j:\n",
    "                print(f\"i: {i} j: {j} -> {p_f_j}, {p_s_j}\")\n",
    "            \n",
    "            #print(p_s_j, p_f_j, N_j, p_f_l, N_l)\n",
    "            if p_s_j >= N_j and p_f_j < N_j and p_f_l < N_l:\n",
    "                print(f\"i: {i} j: {j} -> {p_f_j}, {p_f_l}\")\n",
    "                \n",
    "            p_f_j += 1\n",
    "            p_s_j += 1\n",
    "    p_f_j = 0\n",
    "    if i > N_j:\n",
    "        p_f_l += 1\n",
    "        \n",
    "        \n",
    "\n",
    "\n",
    "    \n",
    "        \n",
    "        \n",
    "        \n"
   ]
  },
  {
   "cell_type": "code",
   "execution_count": null,
   "metadata": {},
   "outputs": [],
   "source": []
  }
 ],
 "metadata": {
  "kernelspec": {
   "display_name": "Python 3.9.4 64-bit",
   "language": "python",
   "name": "python3"
  },
  "language_info": {
   "codemirror_mode": {
    "name": "ipython",
    "version": 3
   },
   "file_extension": ".py",
   "mimetype": "text/x-python",
   "name": "python",
   "nbconvert_exporter": "python",
   "pygments_lexer": "ipython3",
   "version": "3.9.4"
  },
  "orig_nbformat": 4,
  "vscode": {
   "interpreter": {
    "hash": "aee8b7b246df8f9039afb4144a1f6fd8d2ca17a180786b69acc140d282b71a49"
   }
  }
 },
 "nbformat": 4,
 "nbformat_minor": 2
}
